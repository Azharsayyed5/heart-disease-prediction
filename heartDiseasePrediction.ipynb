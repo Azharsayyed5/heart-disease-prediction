{
  "nbformat": 4,
  "nbformat_minor": 0,
  "metadata": {
    "colab": {
      "name": "heartDiseasePrediction.ipynb",
      "provenance": [],
      "authorship_tag": "ABX9TyMKlORsBt9kjxK5zqydwy7R",
      "include_colab_link": true
    },
    "kernelspec": {
      "name": "python3",
      "display_name": "Python 3"
    },
    "language_info": {
      "name": "python"
    }
  },
  "cells": [
    {
      "cell_type": "markdown",
      "metadata": {
        "id": "view-in-github",
        "colab_type": "text"
      },
      "source": [
        "<a href=\"https://colab.research.google.com/github/Azharsayyed5/heart-disease-prediction/blob/main/heartDiseasePrediction.ipynb\" target=\"_parent\"><img src=\"https://colab.research.google.com/assets/colab-badge.svg\" alt=\"Open In Colab\"/></a>"
      ]
    },
    {
      "cell_type": "code",
      "metadata": {
        "colab": {
          "base_uri": "https://localhost:8080/"
        },
        "id": "YVWBOK_uDEE7",
        "outputId": "4ca55be1-556f-4c59-813e-2636f2867b4f"
      },
      "source": [
        "# Import packages that we will be working with.\n",
        "import os\n",
        "import numpy as np\n",
        "import pandas as pd\n",
        "from keras.layers import Dense\n",
        "import matplotlib.pyplot as plt\n",
        "import tensorflow as tf\n",
        "from tensorflow.keras.models import Sequential\n",
        "from tensorflow.keras.layers import Dense\n",
        "from tensorflow.keras.optimizers import Adam\n",
        "from sklearn.model_selection import train_test_split\n",
        "from sklearn.metrics import classification_report, accuracy_score\n",
        "\n",
        "print(os.listdir(\"../content\"))\n",
        "np.random.seed(10)"
      ],
      "execution_count": 40,
      "outputs": [
        {
          "output_type": "stream",
          "text": [
            "['.config', 'heart.csv', 'sample_data']\n"
          ],
          "name": "stdout"
        }
      ]
    },
    {
      "cell_type": "code",
      "metadata": {
        "colab": {
          "base_uri": "https://localhost:8080/"
        },
        "id": "P1mcEikSDHFz",
        "outputId": "8cd9392f-cab1-466c-aeec-0153d1b0287a"
      },
      "source": [
        "# Load the dataset, and view couple of the first rows.\n",
        "data = pd.read_csv(\"../content/heart.csv\")\n",
        "print(data.head(3))\n",
        "\n",
        "# Check the datatypes\n",
        "print(data.dtypes)"
      ],
      "execution_count": 41,
      "outputs": [
        {
          "output_type": "stream",
          "text": [
            "   age  sex  cp  trestbps  chol  fbs  ...  exang  oldpeak  slope  ca  thal  target\n",
            "0   63    1   3       145   233    1  ...      0      2.3      0   0     1       1\n",
            "1   37    1   2       130   250    0  ...      0      3.5      0   0     2       1\n",
            "2   41    0   1       130   204    0  ...      0      1.4      2   0     2       1\n",
            "\n",
            "[3 rows x 14 columns]\n",
            "age           int64\n",
            "sex           int64\n",
            "cp            int64\n",
            "trestbps      int64\n",
            "chol          int64\n",
            "fbs           int64\n",
            "restecg       int64\n",
            "thalach       int64\n",
            "exang         int64\n",
            "oldpeak     float64\n",
            "slope         int64\n",
            "ca            int64\n",
            "thal          int64\n",
            "target        int64\n",
            "dtype: object\n"
          ],
          "name": "stdout"
        }
      ]
    },
    {
      "cell_type": "code",
      "metadata": {
        "colab": {
          "base_uri": "https://localhost:8080/"
        },
        "id": "mHmiUqmlDK9_",
        "outputId": "6e0c163c-93f2-4684-ea21-7f4e9f0262a3"
      },
      "source": [
        "# At this moment we have a dataframe that contains all of the heart.csv data. However we need to\n",
        "# Separate them to [X, Y]. Where our target labels are 'Y', and 'X' is our training data.\n",
        "Y = data.target.values\n",
        "X = data.drop(['target'], axis=1)\n",
        "\n",
        "# Now split to train/test with 80% training data, and 20% test data.\n",
        "X_train, X_test, Y_train, Y_test = train_test_split(X, Y, test_size=0.2, random_state=42)\n",
        "\n",
        "# Check dimensions of both sets.\n",
        "print(\"Train Features Size:\", X_train.shape)\n",
        "print(\"Test Features Size:\", X_test.shape)\n",
        "print(\"Train Labels Size:\", Y_train.shape)\n",
        "print(\"Test Labels Size:\", Y_test.shape)"
      ],
      "execution_count": 42,
      "outputs": [
        {
          "output_type": "stream",
          "text": [
            "Train Features Size: (242, 13)\n",
            "Test Features Size: (61, 13)\n",
            "Train Labels Size: (242,)\n",
            "Test Labels Size: (61,)\n"
          ],
          "name": "stdout"
        }
      ]
    },
    {
      "cell_type": "code",
      "metadata": {
        "id": "m2j1tN4eDO7E"
      },
      "source": [
        "# Define a Neural Network Model\n",
        "\n",
        "def NN_model(learning_rate):\n",
        "    model = Sequential()\n",
        "    model.add(Dense(32, input_dim=13, kernel_initializer='normal', activation='relu'))\n",
        "    model.add(Dense(16, kernel_initializer='normal', activation='relu'))\n",
        "    model.add(Dense(2, activation='softmax'))\n",
        "    Adam(lr=learning_rate)\n",
        "    model.compile(loss='sparse_categorical_crossentropy', optimizer='Adam', metrics=['accuracy'])\n",
        "    return model"
      ],
      "execution_count": 43,
      "outputs": []
    },
    {
      "cell_type": "code",
      "metadata": {
        "colab": {
          "base_uri": "https://localhost:8080/"
        },
        "id": "UT62DX1tDRMB",
        "outputId": "1c91f3c4-2760-47d4-9649-6c8c7398f508"
      },
      "source": [
        "# Build a NN-model, and start training\n",
        "learning_rate = 0.01\n",
        "model = NN_model(learning_rate)\n",
        "print(model.summary())"
      ],
      "execution_count": 44,
      "outputs": [
        {
          "output_type": "stream",
          "text": [
            "Model: \"sequential_1\"\n",
            "_________________________________________________________________\n",
            "Layer (type)                 Output Shape              Param #   \n",
            "=================================================================\n",
            "dense_3 (Dense)              (None, 32)                448       \n",
            "_________________________________________________________________\n",
            "dense_4 (Dense)              (None, 16)                528       \n",
            "_________________________________________________________________\n",
            "dense_5 (Dense)              (None, 2)                 34        \n",
            "=================================================================\n",
            "Total params: 1,010\n",
            "Trainable params: 1,010\n",
            "Non-trainable params: 0\n",
            "_________________________________________________________________\n",
            "None\n"
          ],
          "name": "stdout"
        }
      ]
    },
    {
      "cell_type": "code",
      "metadata": {
        "colab": {
          "base_uri": "https://localhost:8080/"
        },
        "id": "6Hu9hRBbDSsE",
        "outputId": "953b2881-d728-4484-fde0-cf2e6f473f6f"
      },
      "source": [
        "history = model.fit(X_train, Y_train, validation_data=(X_test, Y_test), epochs=100, batch_size=16, verbose=2)"
      ],
      "execution_count": 45,
      "outputs": [
        {
          "output_type": "stream",
          "text": [
            "Epoch 1/100\n",
            "16/16 - 1s - loss: 0.8344 - accuracy: 0.5041 - val_loss: 0.7303 - val_accuracy: 0.4262\n",
            "Epoch 2/100\n",
            "16/16 - 0s - loss: 0.6958 - accuracy: 0.5289 - val_loss: 0.6780 - val_accuracy: 0.5738\n",
            "Epoch 3/100\n",
            "16/16 - 0s - loss: 0.6772 - accuracy: 0.5992 - val_loss: 0.6258 - val_accuracy: 0.6557\n",
            "Epoch 4/100\n",
            "16/16 - 0s - loss: 0.6816 - accuracy: 0.5950 - val_loss: 0.5869 - val_accuracy: 0.7541\n",
            "Epoch 5/100\n",
            "16/16 - 0s - loss: 0.6131 - accuracy: 0.6901 - val_loss: 0.5595 - val_accuracy: 0.7705\n",
            "Epoch 6/100\n",
            "16/16 - 0s - loss: 0.6305 - accuracy: 0.6198 - val_loss: 0.5809 - val_accuracy: 0.6557\n",
            "Epoch 7/100\n",
            "16/16 - 0s - loss: 0.6144 - accuracy: 0.6570 - val_loss: 0.5727 - val_accuracy: 0.6557\n",
            "Epoch 8/100\n",
            "16/16 - 0s - loss: 0.6132 - accuracy: 0.6612 - val_loss: 0.5229 - val_accuracy: 0.8033\n",
            "Epoch 9/100\n",
            "16/16 - 0s - loss: 0.6008 - accuracy: 0.6777 - val_loss: 0.5070 - val_accuracy: 0.8033\n",
            "Epoch 10/100\n",
            "16/16 - 0s - loss: 0.5668 - accuracy: 0.7066 - val_loss: 0.5112 - val_accuracy: 0.8033\n",
            "Epoch 11/100\n",
            "16/16 - 0s - loss: 0.6185 - accuracy: 0.6612 - val_loss: 0.5060 - val_accuracy: 0.7869\n",
            "Epoch 12/100\n",
            "16/16 - 0s - loss: 0.5868 - accuracy: 0.6901 - val_loss: 0.5230 - val_accuracy: 0.7213\n",
            "Epoch 13/100\n",
            "16/16 - 0s - loss: 0.5648 - accuracy: 0.7025 - val_loss: 0.4910 - val_accuracy: 0.8033\n",
            "Epoch 14/100\n",
            "16/16 - 0s - loss: 0.5771 - accuracy: 0.6694 - val_loss: 0.5219 - val_accuracy: 0.7541\n",
            "Epoch 15/100\n",
            "16/16 - 0s - loss: 0.5552 - accuracy: 0.7066 - val_loss: 0.4805 - val_accuracy: 0.7869\n",
            "Epoch 16/100\n",
            "16/16 - 0s - loss: 0.5590 - accuracy: 0.6860 - val_loss: 0.4682 - val_accuracy: 0.8033\n",
            "Epoch 17/100\n",
            "16/16 - 0s - loss: 0.5610 - accuracy: 0.6860 - val_loss: 0.5115 - val_accuracy: 0.7541\n",
            "Epoch 18/100\n",
            "16/16 - 0s - loss: 0.5531 - accuracy: 0.7231 - val_loss: 0.4456 - val_accuracy: 0.8525\n",
            "Epoch 19/100\n",
            "16/16 - 0s - loss: 0.5267 - accuracy: 0.7397 - val_loss: 0.4441 - val_accuracy: 0.8361\n",
            "Epoch 20/100\n",
            "16/16 - 0s - loss: 0.5372 - accuracy: 0.7107 - val_loss: 0.4356 - val_accuracy: 0.8361\n",
            "Epoch 21/100\n",
            "16/16 - 0s - loss: 0.5245 - accuracy: 0.7273 - val_loss: 0.4289 - val_accuracy: 0.8525\n",
            "Epoch 22/100\n",
            "16/16 - 0s - loss: 0.5098 - accuracy: 0.7355 - val_loss: 0.4812 - val_accuracy: 0.7705\n",
            "Epoch 23/100\n",
            "16/16 - 0s - loss: 0.5711 - accuracy: 0.6942 - val_loss: 0.4210 - val_accuracy: 0.8525\n",
            "Epoch 24/100\n",
            "16/16 - 0s - loss: 0.5109 - accuracy: 0.7479 - val_loss: 0.4183 - val_accuracy: 0.8689\n",
            "Epoch 25/100\n",
            "16/16 - 0s - loss: 0.4988 - accuracy: 0.7479 - val_loss: 0.4149 - val_accuracy: 0.8689\n",
            "Epoch 26/100\n",
            "16/16 - 0s - loss: 0.5071 - accuracy: 0.7314 - val_loss: 0.4108 - val_accuracy: 0.8525\n",
            "Epoch 27/100\n",
            "16/16 - 0s - loss: 0.5210 - accuracy: 0.7314 - val_loss: 0.4055 - val_accuracy: 0.8689\n",
            "Epoch 28/100\n",
            "16/16 - 0s - loss: 0.5130 - accuracy: 0.7438 - val_loss: 0.4706 - val_accuracy: 0.7705\n",
            "Epoch 29/100\n",
            "16/16 - 0s - loss: 0.5257 - accuracy: 0.7438 - val_loss: 0.4187 - val_accuracy: 0.8197\n",
            "Epoch 30/100\n",
            "16/16 - 0s - loss: 0.4857 - accuracy: 0.7645 - val_loss: 0.4144 - val_accuracy: 0.8361\n",
            "Epoch 31/100\n",
            "16/16 - 0s - loss: 0.4719 - accuracy: 0.7686 - val_loss: 0.3883 - val_accuracy: 0.8525\n",
            "Epoch 32/100\n",
            "16/16 - 0s - loss: 0.4694 - accuracy: 0.7769 - val_loss: 0.3850 - val_accuracy: 0.8525\n",
            "Epoch 33/100\n",
            "16/16 - 0s - loss: 0.4753 - accuracy: 0.7521 - val_loss: 0.3947 - val_accuracy: 0.8689\n",
            "Epoch 34/100\n",
            "16/16 - 0s - loss: 0.4687 - accuracy: 0.7727 - val_loss: 0.3844 - val_accuracy: 0.8525\n",
            "Epoch 35/100\n",
            "16/16 - 0s - loss: 0.4548 - accuracy: 0.7562 - val_loss: 0.4015 - val_accuracy: 0.8361\n",
            "Epoch 36/100\n",
            "16/16 - 0s - loss: 0.4649 - accuracy: 0.7479 - val_loss: 0.3621 - val_accuracy: 0.8525\n",
            "Epoch 37/100\n",
            "16/16 - 0s - loss: 0.4738 - accuracy: 0.7603 - val_loss: 0.3669 - val_accuracy: 0.8525\n",
            "Epoch 38/100\n",
            "16/16 - 0s - loss: 0.4467 - accuracy: 0.7893 - val_loss: 0.3592 - val_accuracy: 0.8525\n",
            "Epoch 39/100\n",
            "16/16 - 0s - loss: 0.4583 - accuracy: 0.7562 - val_loss: 0.3539 - val_accuracy: 0.8525\n",
            "Epoch 40/100\n",
            "16/16 - 0s - loss: 0.4922 - accuracy: 0.7686 - val_loss: 0.3525 - val_accuracy: 0.8525\n",
            "Epoch 41/100\n",
            "16/16 - 0s - loss: 0.4760 - accuracy: 0.7603 - val_loss: 0.3658 - val_accuracy: 0.8689\n",
            "Epoch 42/100\n",
            "16/16 - 0s - loss: 0.4435 - accuracy: 0.7727 - val_loss: 0.3497 - val_accuracy: 0.8525\n",
            "Epoch 43/100\n",
            "16/16 - 0s - loss: 0.4489 - accuracy: 0.8099 - val_loss: 0.3701 - val_accuracy: 0.8361\n",
            "Epoch 44/100\n",
            "16/16 - 0s - loss: 0.4378 - accuracy: 0.8058 - val_loss: 0.3802 - val_accuracy: 0.8361\n",
            "Epoch 45/100\n",
            "16/16 - 0s - loss: 0.4444 - accuracy: 0.7893 - val_loss: 0.3758 - val_accuracy: 0.8361\n",
            "Epoch 46/100\n",
            "16/16 - 0s - loss: 0.4276 - accuracy: 0.7851 - val_loss: 0.3526 - val_accuracy: 0.8525\n",
            "Epoch 47/100\n",
            "16/16 - 0s - loss: 0.4072 - accuracy: 0.8182 - val_loss: 0.4263 - val_accuracy: 0.8033\n",
            "Epoch 48/100\n",
            "16/16 - 0s - loss: 0.4419 - accuracy: 0.7645 - val_loss: 0.3539 - val_accuracy: 0.8689\n",
            "Epoch 49/100\n",
            "16/16 - 0s - loss: 0.4098 - accuracy: 0.8306 - val_loss: 0.3490 - val_accuracy: 0.8689\n",
            "Epoch 50/100\n",
            "16/16 - 0s - loss: 0.4180 - accuracy: 0.8223 - val_loss: 0.3606 - val_accuracy: 0.8689\n",
            "Epoch 51/100\n",
            "16/16 - 0s - loss: 0.5120 - accuracy: 0.7603 - val_loss: 0.3882 - val_accuracy: 0.8361\n",
            "Epoch 52/100\n",
            "16/16 - 0s - loss: 0.4895 - accuracy: 0.7769 - val_loss: 0.3476 - val_accuracy: 0.8689\n",
            "Epoch 53/100\n",
            "16/16 - 0s - loss: 0.4218 - accuracy: 0.7893 - val_loss: 0.3478 - val_accuracy: 0.8689\n",
            "Epoch 54/100\n",
            "16/16 - 0s - loss: 0.4139 - accuracy: 0.7975 - val_loss: 0.3483 - val_accuracy: 0.8852\n",
            "Epoch 55/100\n",
            "16/16 - 0s - loss: 0.4129 - accuracy: 0.7934 - val_loss: 0.3388 - val_accuracy: 0.8689\n",
            "Epoch 56/100\n",
            "16/16 - 0s - loss: 0.4054 - accuracy: 0.8471 - val_loss: 0.3800 - val_accuracy: 0.8197\n",
            "Epoch 57/100\n",
            "16/16 - 0s - loss: 0.3950 - accuracy: 0.8512 - val_loss: 0.3493 - val_accuracy: 0.8689\n",
            "Epoch 58/100\n",
            "16/16 - 0s - loss: 0.3968 - accuracy: 0.8430 - val_loss: 0.4134 - val_accuracy: 0.8197\n",
            "Epoch 59/100\n",
            "16/16 - 0s - loss: 0.4604 - accuracy: 0.7645 - val_loss: 0.4220 - val_accuracy: 0.8033\n",
            "Epoch 60/100\n",
            "16/16 - 0s - loss: 0.4513 - accuracy: 0.7686 - val_loss: 0.3551 - val_accuracy: 0.8689\n",
            "Epoch 61/100\n",
            "16/16 - 0s - loss: 0.4049 - accuracy: 0.8099 - val_loss: 0.3511 - val_accuracy: 0.8689\n",
            "Epoch 62/100\n",
            "16/16 - 0s - loss: 0.3858 - accuracy: 0.8471 - val_loss: 0.3512 - val_accuracy: 0.8689\n",
            "Epoch 63/100\n",
            "16/16 - 0s - loss: 0.4069 - accuracy: 0.8264 - val_loss: 0.3482 - val_accuracy: 0.8689\n",
            "Epoch 64/100\n",
            "16/16 - 0s - loss: 0.3972 - accuracy: 0.8347 - val_loss: 0.4292 - val_accuracy: 0.7869\n",
            "Epoch 65/100\n",
            "16/16 - 0s - loss: 0.3944 - accuracy: 0.8058 - val_loss: 0.4831 - val_accuracy: 0.7541\n",
            "Epoch 66/100\n",
            "16/16 - 0s - loss: 0.4278 - accuracy: 0.7851 - val_loss: 0.5013 - val_accuracy: 0.7377\n",
            "Epoch 67/100\n",
            "16/16 - 0s - loss: 0.4130 - accuracy: 0.8182 - val_loss: 0.4058 - val_accuracy: 0.8197\n",
            "Epoch 68/100\n",
            "16/16 - 0s - loss: 0.4187 - accuracy: 0.8388 - val_loss: 0.3501 - val_accuracy: 0.8689\n",
            "Epoch 69/100\n",
            "16/16 - 0s - loss: 0.3888 - accuracy: 0.8347 - val_loss: 0.3497 - val_accuracy: 0.8852\n",
            "Epoch 70/100\n",
            "16/16 - 0s - loss: 0.4388 - accuracy: 0.7851 - val_loss: 0.4140 - val_accuracy: 0.8197\n",
            "Epoch 71/100\n",
            "16/16 - 0s - loss: 0.4824 - accuracy: 0.7521 - val_loss: 0.3623 - val_accuracy: 0.8689\n",
            "Epoch 72/100\n",
            "16/16 - 0s - loss: 0.3898 - accuracy: 0.8430 - val_loss: 0.3564 - val_accuracy: 0.8689\n",
            "Epoch 73/100\n",
            "16/16 - 0s - loss: 0.3771 - accuracy: 0.8388 - val_loss: 0.3412 - val_accuracy: 0.8852\n",
            "Epoch 74/100\n",
            "16/16 - 0s - loss: 0.4008 - accuracy: 0.8140 - val_loss: 0.3443 - val_accuracy: 0.8852\n",
            "Epoch 75/100\n",
            "16/16 - 0s - loss: 0.3774 - accuracy: 0.8512 - val_loss: 0.4513 - val_accuracy: 0.7869\n",
            "Epoch 76/100\n",
            "16/16 - 0s - loss: 0.4064 - accuracy: 0.8223 - val_loss: 0.3448 - val_accuracy: 0.8689\n",
            "Epoch 77/100\n",
            "16/16 - 0s - loss: 0.3838 - accuracy: 0.8306 - val_loss: 0.4837 - val_accuracy: 0.7705\n",
            "Epoch 78/100\n",
            "16/16 - 0s - loss: 0.3801 - accuracy: 0.8182 - val_loss: 0.3490 - val_accuracy: 0.8852\n",
            "Epoch 79/100\n",
            "16/16 - 0s - loss: 0.3782 - accuracy: 0.8430 - val_loss: 0.3802 - val_accuracy: 0.8852\n",
            "Epoch 80/100\n",
            "16/16 - 0s - loss: 0.3908 - accuracy: 0.8182 - val_loss: 0.5012 - val_accuracy: 0.7377\n",
            "Epoch 81/100\n",
            "16/16 - 0s - loss: 0.3801 - accuracy: 0.8058 - val_loss: 0.3474 - val_accuracy: 0.8852\n",
            "Epoch 82/100\n",
            "16/16 - 0s - loss: 0.3985 - accuracy: 0.8388 - val_loss: 0.3418 - val_accuracy: 0.8852\n",
            "Epoch 83/100\n",
            "16/16 - 0s - loss: 0.3848 - accuracy: 0.8512 - val_loss: 0.4289 - val_accuracy: 0.8033\n",
            "Epoch 84/100\n",
            "16/16 - 0s - loss: 0.4091 - accuracy: 0.7934 - val_loss: 0.3887 - val_accuracy: 0.8689\n",
            "Epoch 85/100\n",
            "16/16 - 0s - loss: 0.3713 - accuracy: 0.8388 - val_loss: 0.3610 - val_accuracy: 0.8689\n",
            "Epoch 86/100\n",
            "16/16 - 0s - loss: 0.3794 - accuracy: 0.8140 - val_loss: 0.3549 - val_accuracy: 0.8689\n",
            "Epoch 87/100\n",
            "16/16 - 0s - loss: 0.4146 - accuracy: 0.8182 - val_loss: 0.3824 - val_accuracy: 0.8689\n",
            "Epoch 88/100\n",
            "16/16 - 0s - loss: 0.3780 - accuracy: 0.8554 - val_loss: 0.3732 - val_accuracy: 0.8689\n",
            "Epoch 89/100\n",
            "16/16 - 0s - loss: 0.3798 - accuracy: 0.8058 - val_loss: 0.3485 - val_accuracy: 0.8852\n",
            "Epoch 90/100\n",
            "16/16 - 0s - loss: 0.4200 - accuracy: 0.8140 - val_loss: 0.3490 - val_accuracy: 0.8852\n",
            "Epoch 91/100\n",
            "16/16 - 0s - loss: 0.4875 - accuracy: 0.7603 - val_loss: 0.3804 - val_accuracy: 0.8689\n",
            "Epoch 92/100\n",
            "16/16 - 0s - loss: 0.4378 - accuracy: 0.7810 - val_loss: 0.4797 - val_accuracy: 0.7705\n",
            "Epoch 93/100\n",
            "16/16 - 0s - loss: 0.4168 - accuracy: 0.7934 - val_loss: 0.3722 - val_accuracy: 0.8689\n",
            "Epoch 94/100\n",
            "16/16 - 0s - loss: 0.3782 - accuracy: 0.8306 - val_loss: 0.3470 - val_accuracy: 0.8852\n",
            "Epoch 95/100\n",
            "16/16 - 0s - loss: 0.3754 - accuracy: 0.8388 - val_loss: 0.3424 - val_accuracy: 0.8852\n",
            "Epoch 96/100\n",
            "16/16 - 0s - loss: 0.3877 - accuracy: 0.8306 - val_loss: 0.3442 - val_accuracy: 0.8852\n",
            "Epoch 97/100\n",
            "16/16 - 0s - loss: 0.4084 - accuracy: 0.8182 - val_loss: 0.4293 - val_accuracy: 0.8033\n",
            "Epoch 98/100\n",
            "16/16 - 0s - loss: 0.3979 - accuracy: 0.8306 - val_loss: 0.4436 - val_accuracy: 0.7869\n",
            "Epoch 99/100\n",
            "16/16 - 0s - loss: 0.3919 - accuracy: 0.8306 - val_loss: 0.5326 - val_accuracy: 0.7541\n",
            "Epoch 100/100\n",
            "16/16 - 0s - loss: 0.4363 - accuracy: 0.7934 - val_loss: 0.3688 - val_accuracy: 0.8689\n"
          ],
          "name": "stdout"
        }
      ]
    },
    {
      "cell_type": "code",
      "metadata": {
        "colab": {
          "base_uri": "https://localhost:8080/",
          "height": 619
        },
        "id": "jU-DEWEGDWjT",
        "outputId": "32636f85-7427-4842-dd51-0d638097c772"
      },
      "source": [
        "# Plot the model accuracy vs. number of Epochs\n",
        "plt.plot(history.history['accuracy'])\n",
        "plt.plot(history.history['val_accuracy'])\n",
        "plt.title('Model Accuracy')\n",
        "plt.ylabel('Accuracy')\n",
        "plt.xlabel('Epochs')\n",
        "plt.legend(['Train', 'Test'])\n",
        "plt.show()\n",
        "\n",
        "# Plot the Loss function vs. number of Epochs\n",
        "plt.plot(history.history['loss'])\n",
        "plt.plot(history.history['val_loss'])\n",
        "plt.title('Model Loss')\n",
        "plt.ylabel('Loss')\n",
        "plt.xlabel('Epochs')\n",
        "plt.legend(['Train', 'Test'])\n",
        "plt.show()"
      ],
      "execution_count": 53,
      "outputs": [
        {
          "output_type": "display_data",
          "data": {
            "image/png": "[encoded data removed]",
            "text/plain": [
              "<Figure size 432x288 with 1 Axes>"
            ]
          },
          "metadata": {
            "tags": [],
            "needs_background": "light"
          }
        },
        {
          "output_type": "display_data",
          "data": {
            "image/png": "[encoded data removed]",
            "text/plain": [
              "<Figure size 432x288 with 1 Axes>"
            ]
          },
          "metadata": {
            "tags": [],
            "needs_background": "light"
          }
        }
      ]
    },
    {
      "cell_type": "code",
      "metadata": {
        "colab": {
          "base_uri": "https://localhost:8080/"
        },
        "id": "pl0AifbPDYSL",
        "outputId": "44e54f88-54f4-4e07-8996-0e5395e48989"
      },
      "source": [
        "predictions = np.argmax(model.predict(X_test), axis=1)\n",
        "model_accuracy = accuracy_score(Y_test, predictions)*100\n",
        "print(\"Model Accracy:\", model_accuracy,\"%\")\n",
        "print(classification_report(Y_test, predictions))"
      ],
      "execution_count": 54,
      "outputs": [
        {
          "output_type": "stream",
          "text": [
            "Model Accracy: 86.88524590163934 %\n",
            "              precision    recall  f1-score   support\n",
            "\n",
            "           0       0.86      0.86      0.86        29\n",
            "           1       0.88      0.88      0.88        32\n",
            "\n",
            "    accuracy                           0.87        61\n",
            "   macro avg       0.87      0.87      0.87        61\n",
            "weighted avg       0.87      0.87      0.87        61\n",
            "\n"
          ],
          "name": "stdout"
        }
      ]
    },
    {
      "cell_type": "code",
      "metadata": {
        "colab": {
          "base_uri": "https://localhost:8080/"
        },
        "id": "Z_iFoAXrGZuq",
        "outputId": "8a2b946c-3bf4-41ac-8097-b87c8e8a65b8"
      },
      "source": [
        "model.save('heartPredictionModel')"
      ],
      "execution_count": 55,
      "outputs": [
        {
          "output_type": "stream",
          "text": [
            "INFO:tensorflow:Assets written to: heartPredictionModel/assets\n"
          ],
          "name": "stdout"
        }
      ]
    },
    {
      "cell_type": "code",
      "metadata": {
        "colab": {
          "base_uri": "https://localhost:8080/"
        },
        "id": "jZL_8KFHGy38",
        "outputId": "3b561641-e9ba-4b53-ce91-66de5e41fea1"
      },
      "source": [
        "new_model = tf.keras.models.load_model('heartPredictionModel')\n",
        "\n",
        "# Check its architecture\n",
        "new_model.summary()\n",
        "# Run validation\n",
        "predictions = np.argmax(new_model.predict(X_test), axis=1)\n",
        "model_accuracy = accuracy_score(Y_test, predictions)*100\n",
        "print(\"Model Accracy:\", model_accuracy,\"%\")\n",
        "print(classification_report(Y_test, predictions))"
      ],
      "execution_count": 57,
      "outputs": [
        {
          "output_type": "stream",
          "text": [
            "Model: \"sequential_1\"\n",
            "_________________________________________________________________\n",
            "Layer (type)                 Output Shape              Param #   \n",
            "=================================================================\n",
            "dense_3 (Dense)              (None, 32)                448       \n",
            "_________________________________________________________________\n",
            "dense_4 (Dense)              (None, 16)                528       \n",
            "_________________________________________________________________\n",
            "dense_5 (Dense)              (None, 2)                 34        \n",
            "=================================================================\n",
            "Total params: 1,010\n",
            "Trainable params: 1,010\n",
            "Non-trainable params: 0\n",
            "_________________________________________________________________\n",
            "Model Accracy: 86.88524590163934 %\n",
            "              precision    recall  f1-score   support\n",
            "\n",
            "           0       0.86      0.86      0.86        29\n",
            "           1       0.88      0.88      0.88        32\n",
            "\n",
            "    accuracy                           0.87        61\n",
            "   macro avg       0.87      0.87      0.87        61\n",
            "weighted avg       0.87      0.87      0.87        61\n",
            "\n"
          ],
          "name": "stdout"
        }
      ]
    }
  ]
}